{
 "cells": [
  {
   "cell_type": "code",
   "execution_count": 43,
   "metadata": {},
   "outputs": [],
   "source": [
    "import cv2\n",
    "import timer \n",
    "import time\n",
    "import numpy as np"
   ]
  },
  {
   "cell_type": "code",
   "execution_count": 44,
   "metadata": {},
   "outputs": [],
   "source": [
    "\n",
    "\n",
    "\n",
    "c=0\n",
    "frame = np.zeros([512,512,3],np.uint8)\n",
    "frame1 = cv2.rectangle(frame,(0,512),(256,0),(252,252,252),-1)\n",
    "frame2 =  cv2.rotate(frame1,cv2.ROTATE_180)\n",
    "dis = [frame1,frame2]\n",
    "fourcc = cv2.VideoWriter_fourcc(*'mp4v')\n",
    "widht, height, channel = frame.shape\n",
    "out = cv2.VideoWriter('output.avi',fourcc,60,(int(height),int(widht)))\n",
    "\n"
   ]
  },
  {
   "cell_type": "code",
   "execution_count": 45,
   "metadata": {},
   "outputs": [],
   "source": [
    "c=0\n",
    "flag =1\n",
    "inner = 0\n",
    "start = time.time()\n",
    "end = time.time()\n",
    "newstart = 2*end\n",
    "lastend = end \n",
    "\n",
    "def click_Event(event,x,y,flags,perms):\n",
    "    global flag\n",
    "    if event == cv2.EVENT_RBUTTONDOWN:\n",
    "        if(x<296 and x>216 and y<296 and y>216):\n",
    "    \n",
    "            flag =0\n",
    "\n",
    "\n",
    "while(flag):\n",
    "    if(lastend-start> 1):\n",
    "        frame = dis[c%2]\n",
    "        c+=1\n",
    "    cv2.imshow('frame',frame)\n",
    "    if  cv2.waitKey(1) & 0xFF == ord('k'):\n",
    "        newstart = time.time() \n",
    "        inner = 1\n",
    "    \n",
    "\n",
    "    if inner :\n",
    "        if(end - newstart<4.5):\n",
    "            out.write(frame)\n",
    "        else:\n",
    "            for f in dis:\n",
    "                f = cv2.rectangle(f,(216,296),(296,216),(0,0,256),-1)\n",
    "                f = cv2.putText(f,\"Ketan\",(233,262),cv2.FONT_HERSHEY_SIMPLEX,0.5,(256,256,256))\n",
    "            break\n",
    "        \n",
    "    \n",
    "    end = time.time()\n",
    "    lastend = end-c\n",
    "\n",
    "\n",
    "cv2.setMouseCallback('frame',click_Event)\n",
    "cv2.waitKey(1)\n",
    "\n",
    "\n",
    "while(flag==1):\n",
    "    if(lastend-start> 1):\n",
    "        frame = dis[c%2]\n",
    "        c+=1\n",
    "    cv2.imshow('frame',frame)\n",
    "    cv2.waitKey(1)\n",
    "    end = time.time()\n",
    "    lastend = end-c\n",
    "\n",
    "\n",
    "cv2.destroyAllWindows()\n",
    "start = time.time()\n",
    "c=0\n",
    "end = time.time()\n",
    "lastend = end\n",
    "\n",
    "while(end-start<9):\n",
    "    if(lastend-start> 1):\n",
    "        frame = dis[c%2]\n",
    "        c+=1\n",
    "    out.write(frame)\n",
    "    end = time.time()\n",
    "    lastend = end-c\n",
    "    cv2.waitKey(1)\n",
    "\n",
    "out.release()\n",
    "cv2.destroyAllWindows()\n",
    "\n",
    "frame = np.zeros([512,512,3],np.uint8)\n",
    "cv2.putText(frame,\"FOOLED YOU\",(150,260),cv2.FONT_HERSHEY_SIMPLEX,1,(256,256,256))\n",
    "cv2.imshow('fool',frame)\n",
    "cv2.waitKey(0)\n",
    "cv2.destroyAllWindows()"
   ]
  }
 ],
 "metadata": {
  "kernelspec": {
   "display_name": "Python 3.9.13 64-bit (microsoft store)",
   "language": "python",
   "name": "python3"
  },
  "language_info": {
   "codemirror_mode": {
    "name": "ipython",
    "version": 3
   },
   "file_extension": ".py",
   "mimetype": "text/x-python",
   "name": "python",
   "nbconvert_exporter": "python",
   "pygments_lexer": "ipython3",
   "version": "3.9.13"
  },
  "orig_nbformat": 4,
  "vscode": {
   "interpreter": {
    "hash": "40a3f796880a10af6b1f95340020c06bb9a1362fffb0ab651994fca5d8ea86f2"
   }
  }
 },
 "nbformat": 4,
 "nbformat_minor": 2
}
